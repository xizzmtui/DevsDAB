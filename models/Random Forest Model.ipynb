{
 "cells": [
  {
   "cell_type": "code",
   "execution_count": 1,
   "id": "d00c730b",
   "metadata": {},
   "outputs": [],
   "source": [
    "# import libraries\n",
    "import pandas as pd\n",
    "import numpy as np"
   ]
  },
  {
   "cell_type": "code",
   "execution_count": 2,
   "id": "4193dffb",
   "metadata": {},
   "outputs": [],
   "source": [
    "# import training data\n",
    "x = pd.read_csv('Training.csv')\n",
    "y = x.pop('prognosis')"
   ]
  },
  {
   "cell_type": "code",
   "execution_count": 3,
   "id": "366411aa",
   "metadata": {},
   "outputs": [],
   "source": [
    "# import test data\n",
    "x1 = pd.read_csv('Testing.csv')\n",
    "y1 = x1.pop('prognosis')"
   ]
  },
  {
   "cell_type": "code",
   "execution_count": 4,
   "id": "ae204d83",
   "metadata": {},
   "outputs": [],
   "source": [
    "# initialize algorithm\n",
    "from sklearn.ensemble import RandomForestClassifier\n",
    "model = RandomForestClassifier()"
   ]
  },
  {
   "cell_type": "code",
   "execution_count": 5,
   "id": "377b6119",
   "metadata": {},
   "outputs": [],
   "source": [
    "# training the model\n",
    "model = model.fit(x,y)"
   ]
  },
  {
   "cell_type": "code",
   "execution_count": 6,
   "id": "92a9e0a7",
   "metadata": {},
   "outputs": [],
   "source": [
    "# testing the model\n",
    "y_predict = model.predict(x1)"
   ]
  },
  {
   "cell_type": "code",
   "execution_count": 8,
   "id": "aff9808e",
   "metadata": {},
   "outputs": [],
   "source": [
    "# Evaluating the model\n",
    "from sklearn.metrics import accuracy_score\n",
    "score = accuracy_score(y_predict,y1)"
   ]
  },
  {
   "cell_type": "code",
   "execution_count": 9,
   "id": "3668bc55",
   "metadata": {},
   "outputs": [
    {
     "data": {
      "text/plain": [
       "1.0"
      ]
     },
     "execution_count": 9,
     "metadata": {},
     "output_type": "execute_result"
    }
   ],
   "source": [
    "# show the score\n",
    "score"
   ]
  }
 ],
 "metadata": {
  "kernelspec": {
   "display_name": "Python 3",
   "language": "python",
   "name": "python3"
  },
  "language_info": {
   "codemirror_mode": {
    "name": "ipython",
    "version": 3
   },
   "file_extension": ".py",
   "mimetype": "text/x-python",
   "name": "python",
   "nbconvert_exporter": "python",
   "pygments_lexer": "ipython3",
   "version": "3.8.8"
  }
 },
 "nbformat": 4,
 "nbformat_minor": 5
}
